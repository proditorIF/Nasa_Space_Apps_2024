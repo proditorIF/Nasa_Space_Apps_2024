{
 "cells": [
  {
   "cell_type": "code",
   "execution_count": 40,
   "id": "f29c855b",
   "metadata": {},
   "outputs": [],
   "source": [
    "import folium\n",
    "from folium.plugins import HeatMap\n",
    "\n",
    "# Inicializar el mapa\n",
    "map_center = [21.116436, -101.671642]  # Ajustar según la ubicación de tus datos\n",
    "mymap = folium.Map(location=map_center, zoom_start=14)\n",
    "\n",
    "# Infraestructura ciclista (rojo)\n",
    "ciclista_data = [[21.116, -101.671], [21.117, -101.672]]  # Ejemplo de coordenadas\n",
    "dic =\"D:/FreeT_1/Hack_nasa_2024\"\n",
    "cic =[\"cicloestacionamientos\",\"calles_compartidas\",\"velocidad_maxima\"]\n",
    "# Extraer las coordenadas \n",
    "ciclista_cor = []\n",
    "for i in range (0,3):\n",
    "    with open(f\"{dic}/infrastructura_ciclista/json/{cic[i]}.json\", 'r', encoding='utf-8') as file:\n",
    "        data = json.load(file)\n",
    "    for feature in data['features']:\n",
    "        lat, lon = feature['geometry']['coordinates'][1], feature['geometry']['coordinates'][0]\n",
    "        ciclista_cor.append([lat, lon])\n",
    "\n",
    "HeatMap(ciclista_cor, gradient={0.4: 'red'}).add_to(mymap)\n",
    "dic =\"D:/FreeT_1/Hack_nasa_2024\"\n",
    "peat =[\"obstrucciones\",\"banquetas\",\"Señalamientos\"]\n",
    "# Extraer las coordenadas \n",
    "peatonal_data= []\n",
    "for i in range (0,3):\n",
    "    with open(f\"{dic}/infrastructura_peatonal/infrastructura_peatonal_json/{peat[i]}.json\", 'r', encoding='utf-8') as file:\n",
    "        data = json.load(file)\n",
    "    for feature in data['features']:\n",
    "        lat, lon = feature['geometry']['coordinates'][1], feature['geometry']['coordinates'][0]\n",
    "        peatonal_data.append([lat, lon])\n",
    "\n",
    "HeatMap(peatonal_data, gradient={0.4: 'green'}).add_to(mymap)\n",
    "# Extraer las coordenadas \n",
    "public_esp_data= []\n",
    "esp_data = [\"equipamiento\",\"infraestructura_verde\"]\n",
    "for i in range (0,2):\n",
    "    with open(f\"{dic}/Espacio_publicos_equipamiento/json/{esp_data[i]}.json\", 'r', encoding='utf-8') as file:\n",
    "        data = json.load(file)\n",
    "    for feature in data['features']:\n",
    "        lat, lon = feature['geometry']['coordinates'][1], feature['geometry']['coordinates'][0]\n",
    "        public_esp_data.append([lat, lon])\n",
    "\n",
    "HeatMap(public_esp_data, gradient={0.4: 'blue'}).add_to(mymap)\n",
    "\n",
    "# Añadir una leyenda personalizada al mapa\n",
    "legend_html = \"\"\"\n",
    "     <div style=\"\n",
    "     position: fixed; \n",
    "     bottom: 50px; left: 50px; width: 135px; height: 150px; \n",
    "     background-color: white; z-index:9999; font-size:14px;\n",
    "     border:2px solid grey; padding: 10px;\">\n",
    "     <i style=\"background:red;width:10px;height:10px;display:inline-block;\"></i> Infraestructura Ciclista <br>\n",
    "     <i style=\"background:green;width:10px;height:10px;display:inline-block;\"></i> Infraestructura Peatonal <br>\n",
    "     <i style=\"background:blue;width:10px;height:10px;display:inline-block;\"></i> Espacios Públicos\n",
    "     </div>\n",
    "     \"\"\"\n",
    "mymap.get_root().html.add_child(folium.Element(legend_html))\n",
    "\n",
    "# Guardar el archivo HTML\n",
    "mymap.save('mapa_multicolor_con_leyenda.html')\n"
   ]
  },
  {
   "cell_type": "code",
   "execution_count": 19,
   "id": "2d2625dd",
   "metadata": {},
   "outputs": [
    {
     "ename": "NameError",
     "evalue": "name 'direc' is not defined",
     "output_type": "error",
     "traceback": [
      "\u001b[1;31m---------------------------------------------------------------------------\u001b[0m",
      "\u001b[1;31mNameError\u001b[0m                                 Traceback (most recent call last)",
      "Cell \u001b[1;32mIn[19], line 1\u001b[0m\n\u001b[1;32m----> 1\u001b[0m direc\u001b[38;5;241m+\u001b[39m\u001b[38;5;124m\"\u001b[39m\u001b[38;5;124m/infrastructura_ciclista/json/\u001b[39m\u001b[38;5;124m\"\u001b[39m\n",
      "\u001b[1;31mNameError\u001b[0m: name 'direc' is not defined"
     ]
    }
   ],
   "source": [
    "direc+\"/infrastructura_ciclista/json/\""
   ]
  }
 ],
 "metadata": {
  "kernelspec": {
   "display_name": "Python 3 (ipykernel)",
   "language": "python",
   "name": "python3"
  },
  "language_info": {
   "codemirror_mode": {
    "name": "ipython",
    "version": 3
   },
   "file_extension": ".py",
   "mimetype": "text/x-python",
   "name": "python",
   "nbconvert_exporter": "python",
   "pygments_lexer": "ipython3",
   "version": "3.11.5"
  }
 },
 "nbformat": 4,
 "nbformat_minor": 5
}
