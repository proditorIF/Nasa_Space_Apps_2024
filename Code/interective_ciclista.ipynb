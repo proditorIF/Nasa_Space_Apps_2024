{
 "cells": [
  {
   "cell_type": "markdown",
   "id": "fbc88c24",
   "metadata": {},
   "source": [
    "# Entregables Nasa Space APPS Chalenge (GTO)\n",
    "## Equipo : HackaBoys \n",
    "### Contenido :Contiene un mapa interactivo con la información del proyecto mapea tu cuadra en partícular la categoría   de Infraestructura ciclista"
   ]
  },
  {
   "cell_type": "code",
   "execution_count": 15,
   "id": "f3dd7c9d",
   "metadata": {},
   "outputs": [
    {
     "name": "stdout",
     "output_type": "stream",
     "text": [
      "Mapa interactivo con capas seleccionables generado con éxito.\n"
     ]
    }
   ],
   "source": [
    "import folium\n",
    "from folium.plugins import HeatMap\n",
    "import json\n",
    "\n",
    "# Inicializar el mapa\n",
    "map_center = [21.116436, -101.671642]  # Ajustar según la ubicación de tus datos\n",
    "mymap = folium.Map(location=map_center, zoom_start=14)\n",
    "\n",
    "# Función para cargar los datos de una categoría\n",
    "def cargar_datos(ruta, archivos):\n",
    "    coordenadas = []\n",
    "    for archivo in archivos:\n",
    "        with open(f\"{ruta}/{archivo}.json\", 'r', encoding='utf-8') as file:\n",
    "            data = json.load(file)\n",
    "            for feature in data['features']:\n",
    "                lat, lon = feature['geometry']['coordinates'][1], feature['geometry']['coordinates'][0]\n",
    "                coordenadas.append([lat, lon])\n",
    "    return coordenadas\n",
    "\n",
    "# Crear capas para cada categoría\n",
    "ruta_ciclista = \"D:/FreeT_1/Hack_nasa_2024/infrastructura_ciclista/json\"\n",
    "ciclista_layer_1= folium.FeatureGroup(name='Calles compartidas')\n",
    "ruta_ciclista = \"D:/FreeT_1/Hack_nasa_2024/infrastructura_ciclista/json\"\n",
    "a= [\"calles_compartidas\"]\n",
    "ciclista_data_1= cargar_datos(ruta_ciclista, a)\n",
    "HeatMap(ciclista_data_1, gradient={0.4: 'red'}).add_to(ciclista_layer_1)\n",
    "ciclista_layer_1.add_to(mymap)\n",
    "\n",
    "\n",
    "ciclista_layer_2= folium.FeatureGroup(name='Ciclo estacionamientos')\n",
    "b= [\"cicloestacionamientos\"]\n",
    "ciclista_data_2= cargar_datos(ruta_ciclista, b)\n",
    "HeatMap(ciclista_data_2, gradient={0.4: 'yellow'}).add_to(ciclista_layer_2)\n",
    "ciclista_layer_2.add_to(mymap)\n",
    "\n",
    "ciclista_layer_3= folium.FeatureGroup(name='Velocidad Maxima')\n",
    "\n",
    "c= [\"velocidad_maxima\"]\n",
    "ciclista_data_3= cargar_datos(ruta_ciclista, c)\n",
    "HeatMap(ciclista_data_3, gradient={0.4: 'blue'}).add_to(ciclista_layer_3)\n",
    "ciclista_layer_3.add_to(mymap)\n",
    "\n",
    "# Añadir un control de capas para activar/desactivar las capas\n",
    "folium.LayerControl().add_to(mymap)\n",
    "\n",
    "# Guardar el archivo HTML\n",
    "legend_html = \"\"\"\n",
    "     <div style=\"\n",
    "     position: fixed; \n",
    "     bottom: 50px; left: 50px; width: 150px; height: 175px; \n",
    "     background-color: white; z-index:9999; font-size:14px;\n",
    "     border:2px solid grey; padding: 10px;\">\n",
    "    <b> Infrastructura cilistas </b> <br>\n",
    "     <i style=\"background:red;width:10px;height:10px;display:inline-block;\"></i> Calles compartidas <br>\n",
    "     <i style=\"background:yellow;width:10px;height:10px;display:inline-block;\"></i> Ciclo estacionamientos <br>\n",
    "     <i style=\"background:blue;width:10px;height:10px;display:inline-block;\"></i> Velocidad Maxima\n",
    "     </div>\n",
    "     \"\"\"\n",
    "mymap.get_root().html.add_child(folium.Element(legend_html))\n",
    "mymap.save('mapa_interactivo_ciclista.html')\n",
    "\n",
    "print(\"Mapa interactivo con capas seleccionables generado con éxito.\")\n",
    "\n"
   ]
  }
 ],
 "metadata": {
  "kernelspec": {
   "display_name": "Python 3 (ipykernel)",
   "language": "python",
   "name": "python3"
  },
  "language_info": {
   "codemirror_mode": {
    "name": "ipython",
    "version": 3
   },
   "file_extension": ".py",
   "mimetype": "text/x-python",
   "name": "python",
   "nbconvert_exporter": "python",
   "pygments_lexer": "ipython3",
   "version": "3.11.5"
  }
 },
 "nbformat": 4,
 "nbformat_minor": 5
}
