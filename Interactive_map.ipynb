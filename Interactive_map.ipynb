{
 "cells": [
  {
   "cell_type": "code",
   "execution_count": 12,
   "id": "91ca38c9",
   "metadata": {},
   "outputs": [
    {
     "name": "stdout",
     "output_type": "stream",
     "text": [
      "Mapa interactivo con capas seleccionables generado con éxito.\n"
     ]
    }
   ],
   "source": [
    "import folium\n",
    "from folium.plugins import HeatMap\n",
    "import json\n",
    "\n",
    "# Inicializar el mapa\n",
    "map_center = [21.116436, -101.671642]  # Ajustar según la ubicación de tus datos\n",
    "mymap = folium.Map(location=map_center, zoom_start=14)\n",
    "\n",
    "# Función para cargar los datos de una categoría\n",
    "def cargar_datos(ruta, archivos):\n",
    "    coordenadas = []\n",
    "    for archivo in archivos:\n",
    "        with open(f\"{ruta}/{archivo}.json\", 'r', encoding='utf-8') as file:\n",
    "            data = json.load(file)\n",
    "            for feature in data['features']:\n",
    "                lat, lon = feature['geometry']['coordinates'][1], feature['geometry']['coordinates'][0]\n",
    "                coordenadas.append([lat, lon])\n",
    "    return coordenadas\n",
    "\n",
    "# Crear capas para cada categoría\n",
    "# Infraestructura ciclista (rojo)\n",
    "ciclista_layer = folium.FeatureGroup(name='Infraestructura Ciclista')\n",
    "ruta_ciclista = \"D:/FreeT_1/Hack_nasa_2024/infrastructura_ciclista/json\"\n",
    "archivos_ciclista = [\"cicloestacionamientos\", \"calles_compartidas\", \"velocidad_maxima\"]\n",
    "ciclista_data = cargar_datos(ruta_ciclista, archivos_ciclista)\n",
    "HeatMap(ciclista_data, gradient={0.4: 'red'}).add_to(ciclista_layer)\n",
    "ciclista_layer.add_to(mymap)\n",
    "\n",
    "# Infraestructura peatonal (verde)\n",
    "peatonal_layer = folium.FeatureGroup(name='Infrastructura Peatonal')\n",
    "ruta_peatonal = \"D:/FreeT_1/Hack_nasa_2024/Infrastructura_peatonal/Infrastructura_peatonal_json\"\n",
    "archivos_peatonal = [\"banquetas\", \"señalamientos\", \"obstrucciones\"]\n",
    "peatonal_data = cargar_datos(ruta_peatonal, archivos_peatonal)\n",
    "HeatMap(peatonal_data, gradient={0.4: 'yellow'}).add_to(peatonal_layer)\n",
    "peatonal_layer.add_to(mymap)\n",
    "\n",
    "# Espacios públicos (azul)\n",
    "espacios_layer = folium.FeatureGroup(name='Espacios Públicos')\n",
    "ruta_espacios = \"D:/FreeT_1/Hack_nasa_2024/Espacio_publicos_equipamiento/json\"\n",
    "archivos_espacios = [\"equipamiento\", \"infraestructura_verde\"]\n",
    "espacios_data = cargar_datos(ruta_espacios, archivos_espacios)\n",
    "HeatMap(espacios_data, gradient={0.4: 'blue'}).add_to(espacios_layer)\n",
    "espacios_layer.add_to(mymap)\n",
    "\n",
    "# Añadir un control de capas para activar/desactivar las capas\n",
    "folium.LayerControl().add_to(mymap)\n",
    "# Guardar el archivo HTML\n",
    "legend_html = \"\"\"\n",
    "     <div style=\"\n",
    "     position: fixed; \n",
    "     bottom: 50px; left: 50px; width: 150px; height: 175px; \n",
    "     background-color: white; z-index:9999; font-size:14px;\n",
    "     border:2px solid grey; padding: 10px;\">\n",
    "    <b> Infrastructura general </b> <br>\n",
    "     <i style=\"background:red;width:10px;height:10px;display:inline-block;\"></i> Infraestructura Ciclista <br>\n",
    "     <i style=\"background:yellow;width:10px;height:10px;display:inline-block;\"></i> Infraestructura Peatonal <br>\n",
    "     <i style=\"background:blue;width:10px;height:10px;display:inline-block;\"></i> Espacios Publicos\n",
    "     </div>\n",
    "     \"\"\"\n",
    "mymap.get_root().html.add_child(folium.Element(legend_html))\n",
    "\n",
    "# Guardar el archivo HTML\n",
    "mymap.save('mapa_interactivo_con_capas.html')\n",
    "\n",
    "print(\"Mapa interactivo con capas seleccionables generado con éxito.\")\n",
    "\n"
   ]
  }
 ],
 "metadata": {
  "kernelspec": {
   "display_name": "Python 3 (ipykernel)",
   "language": "python",
   "name": "python3"
  },
  "language_info": {
   "codemirror_mode": {
    "name": "ipython",
    "version": 3
   },
   "file_extension": ".py",
   "mimetype": "text/x-python",
   "name": "python",
   "nbconvert_exporter": "python",
   "pygments_lexer": "ipython3",
   "version": "3.11.5"
  }
 },
 "nbformat": 4,
 "nbformat_minor": 5
}
